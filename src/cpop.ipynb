{
 "cells": [
  {
   "cell_type": "code",
   "execution_count": 1,
   "metadata": {},
   "outputs": [],
   "source": [
    "%load_ext autoreload\n",
    "%autoreload 2\n",
    "\n",
    "# Imports\n",
    "import numpy as np\n",
    "import matplotlib.pyplot as plt\n",
    "\n",
    "# Slef imports\n",
    "from eclipses import *\n",
    "from plotting import *\n",
    "from cpop import *"
   ]
  },
  {
   "cell_type": "code",
   "execution_count": 37,
   "metadata": {},
   "outputs": [
    {
     "data": {
      "text/html": [
       "<div>\n",
       "<style scoped>\n",
       "    .dataframe tbody tr th:only-of-type {\n",
       "        vertical-align: middle;\n",
       "    }\n",
       "\n",
       "    .dataframe tbody tr th {\n",
       "        vertical-align: top;\n",
       "    }\n",
       "\n",
       "    .dataframe thead th {\n",
       "        text-align: right;\n",
       "    }\n",
       "</style>\n",
       "<table border=\"1\" class=\"dataframe\">\n",
       "  <thead>\n",
       "    <tr style=\"text-align: right;\">\n",
       "      <th></th>\n",
       "      <th>time</th>\n",
       "      <th>duration</th>\n",
       "      <th>delta</th>\n",
       "    </tr>\n",
       "  </thead>\n",
       "  <tbody>\n",
       "    <tr>\n",
       "      <th>0</th>\n",
       "      <td>1.000000</td>\n",
       "      <td>0.183911</td>\n",
       "      <td>2.002586</td>\n",
       "    </tr>\n",
       "    <tr>\n",
       "      <th>2</th>\n",
       "      <td>3.002586</td>\n",
       "      <td>0.183911</td>\n",
       "      <td>1.982151</td>\n",
       "    </tr>\n",
       "    <tr>\n",
       "      <th>4</th>\n",
       "      <td>4.984736</td>\n",
       "      <td>0.183911</td>\n",
       "      <td>2.002585</td>\n",
       "    </tr>\n",
       "    <tr>\n",
       "      <th>6</th>\n",
       "      <td>6.987321</td>\n",
       "      <td>0.183911</td>\n",
       "      <td>2.002584</td>\n",
       "    </tr>\n",
       "    <tr>\n",
       "      <th>8</th>\n",
       "      <td>8.989905</td>\n",
       "      <td>0.183911</td>\n",
       "      <td>2.002583</td>\n",
       "    </tr>\n",
       "  </tbody>\n",
       "</table>\n",
       "</div>"
      ],
      "text/plain": [
       "       time  duration     delta\n",
       "0  1.000000  0.183911  2.002586\n",
       "2  3.002586  0.183911  1.982151\n",
       "4  4.984736  0.183911  2.002585\n",
       "6  6.987321  0.183911  2.002584\n",
       "8  8.989905  0.183911  2.002583"
      ]
     },
     "execution_count": 37,
     "metadata": {},
     "output_type": "execute_result"
    }
   ],
   "source": [
    "# Getting the Curve\n",
    "eclipses = get_eclipses(\"kplr006545018.fits\", \"../data/combined/\")\n",
    "eclipses.head()"
   ]
  },
  {
   "cell_type": "code",
   "execution_count": 45,
   "metadata": {},
   "outputs": [
    {
     "name": "stdout",
     "output_type": "stream",
     "text": [
      "0.0 [  1   3   0 163 478   0   3   0   1   0   0   0   0]\n",
      "0.005 [  1   3   0   8 633   0   3   0   1   0   0   0   0]\n",
      "0.01 [  1   3   0   8 633   0   3   0   1   0   0   0   0]\n",
      "0.015 [  1   3   0   2 639   0   3   0   1   0   0   0   0]\n",
      "0.02 [  1   3   0   2 639   0   3   0   1   0   0   0   0]\n",
      "0.025 [  1   3   0   1 640   0   3   0   1   0   0   0   0]\n",
      "0.03 [  1   3   0   1 640   0   3   0   1   0   0   0   0]\n",
      "0.035 [  1   3   0   1 640   0   2   1   1   0   0   0   0]\n",
      "0.04 [  1   3   0   0 641   0   2   1   1   0   0   0   0]\n",
      "0.045 [  1   3   0   0 641   0   1   2   1   0   0   0   0]\n",
      "0.05 [  1   2   1   0 641   0   1   2   1   0   0   0   0]\n",
      "0.055 [  1   2   1   0 641   0   1   2   1   0   0   0   0]\n",
      "0.06 [  1   2   1   0 641   0   1   2   1   0   0   0   0]\n",
      "0.065 [  1   2   1   0 641   0   1   2   1   0   0   0   0]\n",
      "0.07 [  1   2   1   0 641   0   1   2   1   0   0   0   0]\n",
      "0.075 [  1   2   1   0 641   0   1   2   1   0   0   0   0]\n",
      "0.08 [  1   2   1   0 641   0   1   2   1   0   0   0   0]\n",
      "0.085 [  1   2   1   0 641   0   1   2   1   0   0   0   0]\n",
      "0.09 [  1   2   1   0 641   0   1   2   1   0   0   0   0]\n",
      "0.095 [  1   2   1   0 641   0   0   3   1   0   0   0   0]\n",
      "0.1 [  1   1   2   0 641   0   0   3   1   0   0   0   0]\n",
      "0.105 [  1   1   2   0 641   0   0   3   1   0   0   0   0]\n",
      "0.11 [  1   0   3   0 640   1   0   3   1   0   0   0   0]\n",
      "0.115 [  1   0   3   0 640   1   0   3   1   0   0   0   0]\n",
      "0.12 [  1   0   3   0 640   1   0   3   1   0   0   0   0]\n",
      "0.125 [  1   0   3   0 640   1   0   3   1   0   0   0   0]\n",
      "0.13 [  1   0   3   0 623  18   0   3   1   0   0   0   0]\n",
      "0.135 [  1   0   3   0 623  18   0   3   1   0   0   0   0]\n",
      "0.14 [  1   0   3   0 279 362   0   3   0   1   0   0   0]\n",
      "0.145 [  1   0   3   0 279 362   0   3   0   1   0   0   0]\n"
     ]
    }
   ],
   "source": [
    "for i in range(30):\n",
    "    binwidth = 0.15\n",
    "    offset = i * 0.005\n",
    "\n",
    "    no_bins = int((eclipses[\"delta\"].max() - eclipses[\"delta\"].min()) / binwidth)\n",
    "\n",
    "    counts, edges = np.histogram(eclipses[\"delta\"], bins=no_bins, range=(eclipses['delta'].min() - offset, eclipses['delta'].max() - offset))\n",
    "    print(offset, counts[:13])"
   ]
  },
  {
   "cell_type": "code",
   "execution_count": null,
   "metadata": {},
   "outputs": [
    {
     "data": {
      "text/plain": [
       "<AxesSubplot:xlabel='time', ylabel='delta'>"
      ]
     },
     "execution_count": 11,
     "metadata": {},
     "output_type": "execute_result"
    },
    {
     "data": {
      "image/png": "[encoded data removed]",
      "text/plain": [
       "<Figure size 432x288 with 1 Axes>"
      ]
     },
     "metadata": {
      "needs_background": "light"
     },
     "output_type": "display_data"
    },
    {
     "ename": "",
     "evalue": "",
     "output_type": "error",
     "traceback": [
      "\u001b[1;31mnotebook controller is DISPOSED. \n",
      "\u001b[1;31mView Jupyter <a href='command:jupyter.viewOutput'>log</a> for further details."
     ]
    }
   ],
   "source": [
    "eclipse.plot.scatter(y='delta', x='time')"
   ]
  }
 ],
 "metadata": {
  "kernelspec": {
   "display_name": "Python 3",
   "language": "python",
   "name": "python3"
  },
  "language_info": {
   "codemirror_mode": {
    "name": "ipython",
    "version": 3
   },
   "file_extension": ".py",
   "mimetype": "text/x-python",
   "name": "python",
   "nbconvert_exporter": "python",
   "pygments_lexer": "ipython3",
   "version": "3.8.5"
  },
  "orig_nbformat": 4,
  "vscode": {
   "interpreter": {
    "hash": "edffab619e08e144bcf7eafa3dca9675b760a292b5a664d0f9bf875808fc6f71"
   }
  }
 },
 "nbformat": 4,
 "nbformat_minor": 2
}
