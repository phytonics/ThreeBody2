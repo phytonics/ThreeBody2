{
 "cells": [
  {
   "cell_type": "code",
   "execution_count": 46,
   "metadata": {},
   "outputs": [
    {
     "name": "stdout",
     "output_type": "stream",
     "text": [
      "The autoreload extension is already loaded. To reload it, use:\n",
      "  %reload_ext autoreload\n"
     ]
    }
   ],
   "source": [
    "%load_ext autoreload\n",
    "%autoreload 2\n",
    "\n",
    "# Imports\n",
    "import numpy as np\n",
    "import matplotlib.pyplot as plt\n",
    "\n",
    "# Slef imports\n",
    "from eclipses import *\n",
    "from plotting import *\n",
    "from cpop import *"
   ]
  },
  {
   "cell_type": "code",
   "execution_count": 47,
   "metadata": {},
   "outputs": [
    {
     "data": {
      "text/html": [
       "<div>\n",
       "<style scoped>\n",
       "    .dataframe tbody tr th:only-of-type {\n",
       "        vertical-align: middle;\n",
       "    }\n",
       "\n",
       "    .dataframe tbody tr th {\n",
       "        vertical-align: top;\n",
       "    }\n",
       "\n",
       "    .dataframe thead th {\n",
       "        text-align: right;\n",
       "    }\n",
       "</style>\n",
       "<table border=\"1\" class=\"dataframe\">\n",
       "  <thead>\n",
       "    <tr style=\"text-align: right;\">\n",
       "      <th></th>\n",
       "      <th>time</th>\n",
       "      <th>duration</th>\n",
       "      <th>delta</th>\n",
       "    </tr>\n",
       "  </thead>\n",
       "  <tbody>\n",
       "    <tr>\n",
       "      <th>0</th>\n",
       "      <td>1.000000</td>\n",
       "      <td>0.183911</td>\n",
       "      <td>2.002586</td>\n",
       "    </tr>\n",
       "    <tr>\n",
       "      <th>2</th>\n",
       "      <td>3.002586</td>\n",
       "      <td>0.183911</td>\n",
       "      <td>1.982151</td>\n",
       "    </tr>\n",
       "    <tr>\n",
       "      <th>4</th>\n",
       "      <td>4.984736</td>\n",
       "      <td>0.183911</td>\n",
       "      <td>2.002585</td>\n",
       "    </tr>\n",
       "    <tr>\n",
       "      <th>6</th>\n",
       "      <td>6.987321</td>\n",
       "      <td>0.183911</td>\n",
       "      <td>2.002584</td>\n",
       "    </tr>\n",
       "    <tr>\n",
       "      <th>8</th>\n",
       "      <td>8.989905</td>\n",
       "      <td>0.183911</td>\n",
       "      <td>2.002583</td>\n",
       "    </tr>\n",
       "  </tbody>\n",
       "</table>\n",
       "</div>"
      ],
      "text/plain": [
       "       time  duration     delta\n",
       "0  1.000000  0.183911  2.002586\n",
       "2  3.002586  0.183911  1.982151\n",
       "4  4.984736  0.183911  2.002585\n",
       "6  6.987321  0.183911  2.002584\n",
       "8  8.989905  0.183911  2.002583"
      ]
     },
     "execution_count": 47,
     "metadata": {},
     "output_type": "execute_result"
    }
   ],
   "source": [
    "# Getting the Curve\n",
    "eclipses = get_eclipses(\"kplr006545018.fits\", \"../data/combined/\")\n",
    "eclipses.head()"
   ]
  },
  {
   "cell_type": "code",
   "execution_count": 60,
   "metadata": {},
   "outputs": [
    {
     "name": "stdout",
     "output_type": "stream",
     "text": [
      "0.0 [  1   0   0   0   0   0   0   0   0   0   0   0   0   0   1   0 153   0\n",
      " 147   3]\n",
      "0.006960806737889167 [  1   0   0   0   0   0   0   0   0   0   0   0   0   0   1   0 153   0\n",
      " 139  11]\n",
      "0.013921613475778334 [  1   0   0   0   0   0   0   0   0   0   0   0   0   0   1   0 153   0\n",
      "  50 100]\n",
      "0.0208824202136675 [  1   0   0   0   0   0   0   0   0   0   0   0   0   0   1   0 153   0\n",
      "  12 138]\n",
      "0.02784322695155667 [  1   0   0   0   0   0   0   0   0   0   0   0   0   0   1   0 152   1\n",
      "   0 150]\n",
      "0.03480403368944584 [  1   0   0   0   0   0   0   0   0   0   0   0   0   0   1   0 152   1\n",
      "   0 150]\n",
      "0.041764840427335 [  1   0   0   0   0   0   0   0   0   0   0   0   0   0   1   0 138  15\n",
      "   0 150]\n",
      "0.04872564716522417 [  1   0   0   0   0   0   0   0   0   0   0   0   0   0   0   1   6 147\n",
      "   0 150]\n",
      "0.05568645390311334 [  1   0   0   0   0   0   0   0   0   0   0   0   0   0   0   1   6 147\n",
      "   0 150]\n",
      "0.06264726064100251 [  1   0   0   0   0   0   0   0   0   0   0   0   0   0   0   1   3 150\n",
      "   0 150]\n",
      "0.06960806737889168 [  1   0   0   0   0   0   0   0   0   0   0   0   0   0   0   1   3 150\n",
      "   0 150]\n",
      "0.07656887411678084 [  1   0   0   0   0   0   0   0   0   0   0   0   0   0   0   1   2 151\n",
      "   0 150]\n",
      "0.08352968085467 [  1   0   0   0   0   0   0   0   0   0   0   0   0   0   0   1   2 151\n",
      "   0 150]\n",
      "0.09049048759255918 [  1   0   0   0   0   0   0   0   0   0   0   0   0   0   0   1   1 152\n",
      "   0 150]\n",
      "0.09745129433044834 [  1   0   0   0   0   0   0   0   0   0   0   0   0   0   0   1   0 153\n",
      "   0 150]\n",
      "0.10441210106833751 [  1   0   0   0   0   0   0   0   0   0   0   0   0   0   0   1   0 153\n",
      "   0 150]\n",
      "0.11137290780622668 [  1   0   0   0   0   0   0   0   0   0   0   0   0   0   0   1   0 153\n",
      "   0 150]\n",
      "0.11833371454411584 [  1   0   0   0   0   0   0   0   0   0   0   0   0   0   0   1   0 153\n",
      "   0 150]\n",
      "0.12529452128200502 [  1   0   0   0   0   0   0   0   0   0   0   0   0   0   0   1   0 153\n",
      "   0 150]\n",
      "0.13225532801989417 [  1   0   0   0   0   0   0   0   0   0   0   0   0   0   0   1   0 153\n",
      "   0 150]\n",
      "0.13921613475778336 [  1   0   0   0   0   0   0   0   0   0   0   0   0   0   0   1   0 153\n",
      "   0 150]\n",
      "0.1461769414956725 [  1   0   0   0   0   0   0   0   0   0   0   0   0   0   0   1   0 153\n",
      "   0 150]\n",
      "0.1531377482335617 [  1   0   0   0   0   0   0   0   0   0   0   0   0   0   0   1   0 153\n",
      "   0 150]\n",
      "0.16009855497145084 [  1   0   0   0   0   0   0   0   0   0   0   0   0   0   0   1   0 153\n",
      "   0 150]\n",
      "0.16705936170934 [  1   0   0   0   0   0   0   0   0   0   0   0   0   0   0   1   0 153\n",
      "   0 150]\n",
      "0.17402016844722917 [  1   0   0   0   0   0   0   0   0   0   0   0   0   0   0   1   0 153\n",
      "   0 150]\n",
      "0.18098097518511835 [  1   0   0   0   0   0   0   0   0   0   0   0   0   0   0   1   0 153\n",
      "   0 150]\n",
      "0.18794178192300753 [  1   0   0   0   0   0   0   0   0   0   0   0   0   0   0   1   0 153\n",
      "   0 149]\n",
      "0.1949025886608967 [  1   0   0   0   0   0   0   0   0   0   0   0   0   0   0   1   0 153\n",
      "   0 148]\n",
      "0.20186339539878587 [  1   0   0   0   0   0   0   0   0   0   0   0   0   0   0   1   0 153\n",
      "   0 148]\n"
     ]
    },
    {
     "data": {
      "text/plain": [
       "False"
      ]
     },
     "execution_count": 60,
     "metadata": {},
     "output_type": "execute_result"
    },
    {
     "data": {
      "image/png": "[encoded data removed]",
      "text/plain": [
       "<Figure size 432x288 with 1 Axes>"
      ]
     },
     "metadata": {
      "needs_background": "light"
     },
     "output_type": "display_data"
    }
   ],
   "source": [
    "check, eclipse = remove_doubles(get_eclipses(\"kplr001026032.fits\", \"../data/combined/\"), bin_cnt=1000)\n",
    "eclipse['delta'].plot.hist()\n",
    "check"
   ]
  },
  {
   "cell_type": "code",
   "execution_count": null,
   "metadata": {},
   "outputs": [
    {
     "data": {
      "text/plain": [
       "<AxesSubplot:xlabel='time', ylabel='delta'>"
      ]
     },
     "execution_count": 11,
     "metadata": {},
     "output_type": "execute_result"
    },
    {
     "data": {
      "image/png": "[encoded data removed]",
      "text/plain": [
       "<Figure size 432x288 with 1 Axes>"
      ]
     },
     "metadata": {
      "needs_background": "light"
     },
     "output_type": "display_data"
    },
    {
     "ename": "",
     "evalue": "",
     "output_type": "error",
     "traceback": [
      "\u001B[1;31mnotebook controller is DISPOSED. \n",
      "\u001B[1;31mView Jupyter <a href='command:jupyter.viewOutput'>log</a> for further details."
     ]
    }
   ],
   "source": [
    "eclipse.plot.scatter(y='delta', x='time')"
   ]
  }
 ],
 "metadata": {
  "kernelspec": {
   "display_name": "Python 3",
   "language": "python",
   "name": "python3"
  },
  "language_info": {
   "codemirror_mode": {
    "name": "ipython",
    "version": 3
   },
   "file_extension": ".py",
   "mimetype": "text/x-python",
   "name": "python",
   "nbconvert_exporter": "python",
   "pygments_lexer": "ipython3",
   "version": "3.8.5"
  },
  "orig_nbformat": 4,
  "vscode": {
   "interpreter": {
    "hash": "edffab619e08e144bcf7eafa3dca9675b760a292b5a664d0f9bf875808fc6f71"
   }
  }
 },
 "nbformat": 4,
 "nbformat_minor": 2
}