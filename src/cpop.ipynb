{
 "cells": [
  {
   "cell_type": "code",
   "execution_count": 1,
   "metadata": {},
   "outputs": [],
   "source": [
    "%load_ext autoreload\n",
    "%autoreload 2\n",
    "\n",
    "# Imports\n",
    "import numpy as np\n",
    "import matplotlib.pyplot as plt\n",
    "\n",
    "# Slef imports\n",
    "from eclipses import *\n",
    "from plotting import *\n",
    "from cpop import *"
   ]
  },
  {
   "cell_type": "code",
   "execution_count": 4,
   "metadata": {},
   "outputs": [
    {
     "name": "stderr",
     "output_type": "stream",
     "text": [
      "WARNING: UnitsWarning: 'BJD - 2454833' did not parse as fits unit: At col 0, Unit 'BJD' not supported by the FITS standard.  If this is meant to be a custom unit, define it with 'u.def_unit'. To have it recognized inside a file reader or other code, enable it with 'u.add_enabled_units'. For details, see https://docs.astropy.org/en/latest/units/combining_and_defining.html [astropy.units.core]\n",
      "WARNING: UnitsWarning: 'e-/s' did not parse as fits unit: At col 0, Unit 'e' not supported by the FITS standard.  If this is meant to be a custom unit, define it with 'u.def_unit'. To have it recognized inside a file reader or other code, enable it with 'u.add_enabled_units'. For details, see https://docs.astropy.org/en/latest/units/combining_and_defining.html [astropy.units.core]\n"
     ]
    },
    {
     "ename": "NameError",
     "evalue": "name 'eclipses' is not defined",
     "output_type": "error",
     "traceback": [
      "\u001B[1;31m---------------------------------------------------------------------------\u001B[0m",
      "\u001B[1;31mNameError\u001B[0m                                 Traceback (most recent call last)",
      "Cell \u001B[1;32mIn [4], line 5\u001B[0m\n\u001B[0;32m      3\u001B[0m plt\u001B[38;5;241m.\u001B[39mfigure(figsize \u001B[38;5;241m=\u001B[39m (\u001B[38;5;241m20\u001B[39m,\u001B[38;5;241m8\u001B[39m))\n\u001B[0;32m      4\u001B[0m \u001B[38;5;66;03m# plt.scatter(eclipse[\"time\"],getOC(eclipse, \"Yuan Xi\"))\u001B[39;00m\n\u001B[1;32m----> 5\u001B[0m plt\u001B[38;5;241m.\u001B[39mscatter(eclipse[\u001B[38;5;124m\"\u001B[39m\u001B[38;5;124mtime\u001B[39m\u001B[38;5;124m\"\u001B[39m], \u001B[43mgetOC\u001B[49m\u001B[43m(\u001B[49m\u001B[43meclipse\u001B[49m\u001B[43m)\u001B[49m)\n",
      "File \u001B[1;32m~\\Documents\\GitHub\\ThreeBody2\\src\\cpop.py:92\u001B[0m, in \u001B[0;36mgetOC\u001B[1;34m(eclipse, author)\u001B[0m\n\u001B[0;32m     81\u001B[0m \u001B[38;5;124;03m\"\"\"Using estimated period and offset, get the O-C values\u001B[39;00m\n\u001B[0;32m     82\u001B[0m \n\u001B[0;32m     83\u001B[0m \u001B[38;5;124;03mArgs:\u001B[39;00m\n\u001B[1;32m   (...)\u001B[0m\n\u001B[0;32m     88\u001B[0m \u001B[38;5;124;03m    O-C: An array of floats, representing the O-C values\u001B[39;00m\n\u001B[0;32m     89\u001B[0m \u001B[38;5;124;03m\"\"\"\u001B[39;00m\n\u001B[0;32m     91\u001B[0m \u001B[38;5;28;01mif\u001B[39;00m author \u001B[38;5;241m==\u001B[39m \u001B[38;5;124m\"\u001B[39m\u001B[38;5;124mVikram\u001B[39m\u001B[38;5;124m\"\u001B[39m:\n\u001B[1;32m---> 92\u001B[0m     period \u001B[38;5;241m=\u001B[39m period_stupid_search(\u001B[43meclipses\u001B[49m[\u001B[38;5;124m'\u001B[39m\u001B[38;5;124mtime\u001B[39m\u001B[38;5;124m'\u001B[39m], eclipses[\u001B[38;5;124m'\u001B[39m\u001B[38;5;124mdelta\u001B[39m\u001B[38;5;124m'\u001B[39m]\u001B[38;5;241m.\u001B[39mmedian())\n\u001B[0;32m     93\u001B[0m     offset \u001B[38;5;241m=\u001B[39m (eclipses[\u001B[38;5;124m'\u001B[39m\u001B[38;5;124mtime\u001B[39m\u001B[38;5;124m'\u001B[39m] \u001B[38;5;241m%\u001B[39m period)\u001B[38;5;241m.\u001B[39mmedian()\n\u001B[0;32m     94\u001B[0m \u001B[38;5;28;01melif\u001B[39;00m author \u001B[38;5;241m==\u001B[39m \u001B[38;5;124m\"\u001B[39m\u001B[38;5;124mYuan Xi\u001B[39m\u001B[38;5;124m\"\u001B[39m:\n",
      "\u001B[1;31mNameError\u001B[0m: name 'eclipses' is not defined"
     ]
    },
    {
     "data": {
      "text/plain": "<Figure size 2000x800 with 0 Axes>"
     },
     "metadata": {},
     "output_type": "display_data"
    }
   ],
   "source": [
    "# Getting the Curve\n",
    "eclipse = get_eclipses(\"kplr006545018.fits\", \"../data/combined/\")\n",
    "plt.figure(figsize = (20,8))\n",
    "# plt.scatter(eclipse[\"time\"],getOC(eclipse, \"Yuan Xi\"))\n",
    "plt.scatter(eclipse[\"time\"], getOC(eclipse))"
   ]
  },
  {
   "cell_type": "code",
   "execution_count": null,
   "metadata": {},
   "outputs": [
    {
     "data": {
      "text/plain": [
       "<AxesSubplot:xlabel='time', ylabel='delta'>"
      ]
     },
     "execution_count": 11,
     "metadata": {},
     "output_type": "execute_result"
    },
    {
     "data": {
      "image/png": "[encoded data removed]",
      "text/plain": [
       "<Figure size 432x288 with 1 Axes>"
      ]
     },
     "metadata": {
      "needs_background": "light"
     },
     "output_type": "display_data"
    },
    {
     "ename": "",
     "evalue": "",
     "output_type": "error",
     "traceback": [
      "\u001B[1;31mnotebook controller is DISPOSED. \n",
      "\u001B[1;31mView Jupyter <a href='command:jupyter.viewOutput'>log</a> for further details."
     ]
    }
   ],
   "source": [
    "eclipse.plot.scatter(y='delta', x='time')"
   ]
  }
 ],
 "metadata": {
  "kernelspec": {
   "display_name": "Python 3",
   "language": "python",
   "name": "python3"
  },
  "language_info": {
   "codemirror_mode": {
    "name": "ipython",
    "version": 3
   },
   "file_extension": ".py",
   "mimetype": "text/x-python",
   "name": "python",
   "nbconvert_exporter": "python",
   "pygments_lexer": "ipython3",
   "version": "3.8.5"
  },
  "orig_nbformat": 4,
  "vscode": {
   "interpreter": {
    "hash": "edffab619e08e144bcf7eafa3dca9675b760a292b5a664d0f9bf875808fc6f71"
   }
  }
 },
 "nbformat": 4,
 "nbformat_minor": 2
}