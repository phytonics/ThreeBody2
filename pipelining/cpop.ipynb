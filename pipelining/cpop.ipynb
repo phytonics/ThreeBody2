{
 "cells": [
  {
   "cell_type": "code",
   "execution_count": null,
   "metadata": {},
   "outputs": [],
   "source": [
    "# Imports\n",
    "import numpy as np"
   ]
  },
  {
   "cell_type": "code",
   "execution_count": 1,
   "metadata": {},
   "outputs": [],
   "source": [
    "# Getting the Curve"
   ]
  },
  {
   "cell_type": "code",
   "execution_count": null,
   "metadata": {},
   "outputs": [],
   "source": [
    "# Getting Computed Values (Simple linear ephemeris)\n",
    "def getComputedArray(period, offset, length):\n",
    "    np.arange(length) * period + offset\n",
    "\n",
    "# observed is the an array specifying the times where a peak is observed\n",
    "y = observed - getComputedArray(period, offset, observed.shape[0])"
   ]
  }
 ],
 "metadata": {
  "kernelspec": {
   "display_name": "Python 3",
   "language": "python",
   "name": "python3"
  },
  "language_info": {
   "codemirror_mode": {
    "name": "ipython",
    "version": 3
   },
   "file_extension": ".py",
   "mimetype": "text/x-python",
   "name": "python",
   "nbconvert_exporter": "python",
   "pygments_lexer": "ipython3",
   "version": "3.7.2 (tags/v3.7.2:9a3ffc0492, Dec 23 2018, 23:09:28) [MSC v.1916 64 bit (AMD64)]"
  },
  "orig_nbformat": 4,
  "vscode": {
   "interpreter": {
    "hash": "d183aee92bda5771ecf960d9c28d103247690ba0bff53074373b2fb3da3acb94"
   }
  }
 },
 "nbformat": 4,
 "nbformat_minor": 2
}
