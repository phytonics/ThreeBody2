{
 "cells": [
  {
   "cell_type": "code",
   "execution_count": null,
   "metadata": {},
   "outputs": [],
   "source": [
    "# Imports\n",
    "import numpy as np"
   ]
  },
  {
   "cell_type": "code",
   "execution_count": 1,
   "metadata": {},
   "outputs": [],
   "source": [
    "# Getting the Curve"
   ]
  },
  {
   "cell_type": "code",
   "execution_count": null,
   "metadata": {},
   "outputs": [],
   "source": [
    "# Getting Computed Values (Simple linear ephemeris)\n",
    "def getComputedArray(period, offset, length):\n",
    "    np.arange(length) * period + offset\n",
    "\n",
    "# observed is the an array specifying the times where a peak is observed\n",
    "y = observed - getComputedArray(period, offset, observed.shape[0])"
   ]
  }
 ],
 "metadata": {
  "kernelspec": {
   "display_name": "base",
   "language": "python",
   "name": "python3"
  },
  "language_info": {
   "codemirror_mode": {
    "name": "ipython",
    "version": 3
   },
   "file_extension": ".py",
   "mimetype": "text/x-python",
   "name": "python",
   "nbconvert_exporter": "python",
   "pygments_lexer": "ipython3",
   "version": "3.8.5"
  },
  "orig_nbformat": 4,
  "vscode": {
   "interpreter": {
    "hash": "05060d8171f941258ac6617a6e6b2ed444c17045c848b7d5b5b26ab63b2e6f4e"
   }
  }
 },
 "nbformat": 4,
 "nbformat_minor": 2
}
